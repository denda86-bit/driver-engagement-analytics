{
 "cells": [
  {
   "cell_type": "code",
   "execution_count": 251,
   "id": "43fb4a3c",
   "metadata": {
    "ExecuteTime": {
     "end_time": "2022-04-24T17:45:40.237901Z",
     "start_time": "2022-04-24T17:45:40.234955Z"
    }
   },
   "outputs": [],
   "source": [
    "import pandas as pd\n",
    "import numpy as np\n",
    "\n",
    "from scipy import stats\n",
    "\n",
    "import seaborn as sns\n",
    "import matplotlib.pyplot as plt\n",
    "\n",
    "sns.set_palette(\"pastel\")"
   ]
  },
  {
   "cell_type": "markdown",
   "id": "4d4ae10e",
   "metadata": {},
   "source": [
    "# Key metrics for driver engagement"
   ]
  },
  {
   "cell_type": "code",
   "execution_count": 238,
   "id": "fc733377",
   "metadata": {
    "ExecuteTime": {
     "end_time": "2022-04-24T17:44:45.164280Z",
     "start_time": "2022-04-24T17:44:45.137461Z"
    }
   },
   "outputs": [],
   "source": [
    "df_drivers = pd.read_csv('x_drivers.csv')"
   ]
  },
  {
   "cell_type": "code",
   "execution_count": 239,
   "id": "14255425",
   "metadata": {
    "ExecuteTime": {
     "end_time": "2022-04-24T17:44:46.197498Z",
     "start_time": "2022-04-24T17:44:45.475079Z"
    }
   },
   "outputs": [],
   "source": [
    "df_activity = pd.read_csv('x_drivers_activity.csv')"
   ]
  },
  {
   "cell_type": "markdown",
   "id": "8e3736b1",
   "metadata": {},
   "source": [
    "**1. x_drivers**\n",
    "-  Id_driver: the driver ID\n",
    "- Date_registration: the date when the user was activated\n",
    "- Driver_rating: the average rating of the driver last 100 rides\n",
    "- Gold_level_count: amount of times the driver reached gold status meaning they were among the top performers in a specific week\n",
    "- Receive_marketing: Takes one of two values, True if the driver accepted to receive marketing and campaign communications and False, if not\n",
    "- Country_code: Country where the user operates\n",
    "- Service_type: If the user is TAXI or a Private Hire Vehicle (PHV)\n",
    "    \n",
    "    \n",
    "**2. x_drivers_activity**\n",
    "- Id_driver: the driver ID\n",
    "- Active_date: date when the user operated in the platform\n",
    "- Offers: number of requests for a ride that a driver received\n",
    "- Bookings: number of requests accepted by the driver\n",
    "- Bookings_cancelled_by_passenger: number of requests accepted by the driver and then cancelled by the passenger, before the ride was completed\n",
    "- Bookings_cancelled_by_driver: number of requests accepted by the driver and then cancelled by the driver, before the ride was completed\n",
    "- Rides: number of rides completed by the driver"
   ]
  },
  {
   "cell_type": "code",
   "execution_count": 240,
   "id": "9136063c",
   "metadata": {
    "ExecuteTime": {
     "end_time": "2022-04-24T17:44:46.239126Z",
     "start_time": "2022-04-24T17:44:46.230260Z"
    },
    "scrolled": true
   },
   "outputs": [
    {
     "data": {
      "text/html": [
       "<div>\n",
       "<style scoped>\n",
       "    .dataframe tbody tr th:only-of-type {\n",
       "        vertical-align: middle;\n",
       "    }\n",
       "\n",
       "    .dataframe tbody tr th {\n",
       "        vertical-align: top;\n",
       "    }\n",
       "\n",
       "    .dataframe thead th {\n",
       "        text-align: right;\n",
       "    }\n",
       "</style>\n",
       "<table border=\"1\" class=\"dataframe\">\n",
       "  <thead>\n",
       "    <tr style=\"text-align: right;\">\n",
       "      <th></th>\n",
       "      <th>id_driver</th>\n",
       "      <th>date_registration</th>\n",
       "      <th>driver_rating</th>\n",
       "      <th>gold_level_count</th>\n",
       "      <th>receive_marketing</th>\n",
       "      <th>country_code</th>\n",
       "      <th>service_type</th>\n",
       "    </tr>\n",
       "  </thead>\n",
       "  <tbody>\n",
       "    <tr>\n",
       "      <th>0</th>\n",
       "      <td>15260831</td>\n",
       "      <td>2015-11-18</td>\n",
       "      <td>4.850</td>\n",
       "      <td>2.000</td>\n",
       "      <td>True</td>\n",
       "      <td>ES</td>\n",
       "      <td>TAXI</td>\n",
       "    </tr>\n",
       "    <tr>\n",
       "      <th>1</th>\n",
       "      <td>58194598</td>\n",
       "      <td>2020-03-12</td>\n",
       "      <td>4.790</td>\n",
       "      <td>26.000</td>\n",
       "      <td>True</td>\n",
       "      <td>DE</td>\n",
       "      <td>PHV</td>\n",
       "    </tr>\n",
       "    <tr>\n",
       "      <th>2</th>\n",
       "      <td>21139412</td>\n",
       "      <td>2017-05-15</td>\n",
       "      <td>4.760</td>\n",
       "      <td>10.000</td>\n",
       "      <td>True</td>\n",
       "      <td>DE</td>\n",
       "      <td>TAXI</td>\n",
       "    </tr>\n",
       "    <tr>\n",
       "      <th>3</th>\n",
       "      <td>48382094</td>\n",
       "      <td>2019-03-20</td>\n",
       "      <td>4.910</td>\n",
       "      <td>3.000</td>\n",
       "      <td>False</td>\n",
       "      <td>DE</td>\n",
       "      <td>TAXI</td>\n",
       "    </tr>\n",
       "    <tr>\n",
       "      <th>4</th>\n",
       "      <td>52914047</td>\n",
       "      <td>2019-08-02</td>\n",
       "      <td>4.960</td>\n",
       "      <td>10.000</td>\n",
       "      <td>True</td>\n",
       "      <td>DE</td>\n",
       "      <td>PHV</td>\n",
       "    </tr>\n",
       "  </tbody>\n",
       "</table>\n",
       "</div>"
      ],
      "text/plain": [
       "   id_driver date_registration  driver_rating  gold_level_count  \\\n",
       "0   15260831        2015-11-18          4.850             2.000   \n",
       "1   58194598        2020-03-12          4.790            26.000   \n",
       "2   21139412        2017-05-15          4.760            10.000   \n",
       "3   48382094        2019-03-20          4.910             3.000   \n",
       "4   52914047        2019-08-02          4.960            10.000   \n",
       "\n",
       "   receive_marketing country_code service_type  \n",
       "0               True           ES         TAXI  \n",
       "1               True           DE          PHV  \n",
       "2               True           DE         TAXI  \n",
       "3              False           DE         TAXI  \n",
       "4               True           DE          PHV  "
      ]
     },
     "execution_count": 240,
     "metadata": {},
     "output_type": "execute_result"
    }
   ],
   "source": [
    "df_drivers.head()"
   ]
  },
  {
   "cell_type": "markdown",
   "id": "8132c877",
   "metadata": {},
   "source": [
    "## How to monitor over time Driver’s engagement?"
   ]
  },
  {
   "cell_type": "code",
   "execution_count": 241,
   "id": "9f39d8b8",
   "metadata": {
    "ExecuteTime": {
     "end_time": "2022-04-24T17:44:47.496242Z",
     "start_time": "2022-04-24T17:44:47.037707Z"
    }
   },
   "outputs": [],
   "source": [
    "df_activity = df_drivers.merge(df_activity, on='id_driver', how='inner')"
   ]
  },
  {
   "cell_type": "code",
   "execution_count": 242,
   "id": "5740756c",
   "metadata": {
    "ExecuteTime": {
     "end_time": "2022-04-24T17:44:48.383230Z",
     "start_time": "2022-04-24T17:44:48.095059Z"
    }
   },
   "outputs": [
    {
     "data": {
      "text/html": [
       "<div>\n",
       "<style scoped>\n",
       "    .dataframe tbody tr th:only-of-type {\n",
       "        vertical-align: middle;\n",
       "    }\n",
       "\n",
       "    .dataframe tbody tr th {\n",
       "        vertical-align: top;\n",
       "    }\n",
       "\n",
       "    .dataframe thead th {\n",
       "        text-align: right;\n",
       "    }\n",
       "</style>\n",
       "<table border=\"1\" class=\"dataframe\">\n",
       "  <thead>\n",
       "    <tr style=\"text-align: right;\">\n",
       "      <th></th>\n",
       "      <th>id_driver</th>\n",
       "      <th>date_registration</th>\n",
       "      <th>driver_rating</th>\n",
       "      <th>gold_level_count</th>\n",
       "      <th>receive_marketing</th>\n",
       "      <th>country_code</th>\n",
       "      <th>service_type</th>\n",
       "      <th>active_date</th>\n",
       "      <th>offers</th>\n",
       "      <th>bookings</th>\n",
       "      <th>bookings_cancelled_by_passenger</th>\n",
       "      <th>bookings_cancelled_by_driver</th>\n",
       "      <th>rides</th>\n",
       "    </tr>\n",
       "  </thead>\n",
       "  <tbody>\n",
       "  </tbody>\n",
       "</table>\n",
       "</div>"
      ],
      "text/plain": [
       "Empty DataFrame\n",
       "Columns: [id_driver, date_registration, driver_rating, gold_level_count, receive_marketing, country_code, service_type, active_date, offers, bookings, bookings_cancelled_by_passenger, bookings_cancelled_by_driver, rides]\n",
       "Index: []"
      ]
     },
     "execution_count": 242,
     "metadata": {},
     "output_type": "execute_result"
    }
   ],
   "source": [
    "df_activity.loc[df_activity.active_date.isnull()]"
   ]
  },
  {
   "cell_type": "code",
   "execution_count": 243,
   "id": "8805c7f7",
   "metadata": {
    "ExecuteTime": {
     "end_time": "2022-04-24T17:44:51.298617Z",
     "start_time": "2022-04-24T17:44:50.794304Z"
    }
   },
   "outputs": [],
   "source": [
    "df_activity.active_date = pd.to_datetime(df_activity.active_date)\n",
    "df_activity.date_registration = pd.to_datetime(df_activity.date_registration)"
   ]
  },
  {
   "cell_type": "code",
   "execution_count": 244,
   "id": "94a00421",
   "metadata": {
    "ExecuteTime": {
     "end_time": "2022-04-24T17:44:59.081186Z",
     "start_time": "2022-04-24T17:44:57.144111Z"
    },
    "scrolled": true
   },
   "outputs": [],
   "source": [
    "df_activity['active_y'] = df_activity.active_date.dt.isocalendar().year\n",
    "df_activity['active_cw'] = df_activity.active_date.dt.isocalendar().week\n",
    "\n",
    "df_activity['active_y'] = df_activity['active_y'].astype(str)\n",
    "df_activity['active_cw'] = df_activity['active_cw'].astype(str)"
   ]
  },
  {
   "cell_type": "code",
   "execution_count": 245,
   "id": "164f7fb2",
   "metadata": {
    "ExecuteTime": {
     "end_time": "2022-04-24T17:45:00.715497Z",
     "start_time": "2022-04-24T17:44:59.739418Z"
    },
    "scrolled": true
   },
   "outputs": [
    {
     "data": {
      "text/plain": [
       "0.9779717712327649"
      ]
     },
     "execution_count": 245,
     "metadata": {},
     "output_type": "execute_result"
    }
   ],
   "source": [
    "df_activity.loc[(df_activity.date_registration.dt.isocalendar().year<2020) |\n",
    "                ((df_activity.date_registration.dt.isocalendar().year==2020) &\n",
    "                (df_activity.date_registration.dt.isocalendar().week<=17))].id_driver.nunique()/\\\n",
    "df_activity.id_driver.nunique()"
   ]
  },
  {
   "cell_type": "code",
   "execution_count": 246,
   "id": "d6556a0c",
   "metadata": {
    "ExecuteTime": {
     "end_time": "2022-04-24T17:45:39.559198Z",
     "start_time": "2022-04-24T17:45:02.661971Z"
    },
    "scrolled": true
   },
   "outputs": [],
   "source": [
    "df_activity['active_ycw'] =  df_activity.apply( lambda x : \n",
    "        x['active_y'] + '-' +  x['active_cw']\n",
    "            if len(x['active_cw'])==2 else\n",
    "        x['active_y'] + '-0' +  x['active_cw'], axis=1)"
   ]
  },
  {
   "cell_type": "code",
   "execution_count": 247,
   "id": "0d7d471e",
   "metadata": {
    "ExecuteTime": {
     "end_time": "2022-04-24T17:45:39.577668Z",
     "start_time": "2022-04-24T17:45:39.562051Z"
    }
   },
   "outputs": [],
   "source": [
    "df_activity['perc_canc_driver_booking'] = (df_activity.bookings_cancelled_by_driver/df_activity.bookings)*100\n",
    "df_activity['perc_ride_offer'] = (df_activity.rides/df_activity.offers)*100"
   ]
  },
  {
   "cell_type": "code",
   "execution_count": 285,
   "id": "73c697ef",
   "metadata": {
    "ExecuteTime": {
     "end_time": "2022-04-25T08:38:01.989138Z",
     "start_time": "2022-04-25T08:38:01.982651Z"
    }
   },
   "outputs": [],
   "source": [
    "def extract_metrics(driver_ycw_level=['active_ycw', 'id_driver'], ycw_level=['active_ycw']):\n",
    "\n",
    "    df_engagement = df_activity.groupby(driver_ycw_level).agg(\n",
    "     perc_canc_driver = ('perc_canc_driver_booking', 'mean')\n",
    "     , rides = ('rides', 'sum')\n",
    "    ).reset_index()\n",
    "    \n",
    "    df_engagement = df_engagement.replace(np.inf, np.nan)\n",
    "    \n",
    "    df_cw_engagement = df_engagement.groupby(ycw_level).agg(\n",
    "       perc_canc_driver =  ('perc_canc_driver', 'mean')\n",
    "     , cnt_drivers =  ('id_driver', 'nunique')\n",
    "     , rides = ('rides', 'mean')).reset_index()\n",
    "    \n",
    "    return df_cw_engagement"
   ]
  },
  {
   "cell_type": "code",
   "execution_count": 286,
   "id": "c3abbc7e",
   "metadata": {
    "ExecuteTime": {
     "end_time": "2022-04-25T08:38:03.382269Z",
     "start_time": "2022-04-25T08:38:02.752953Z"
    },
    "scrolled": true
   },
   "outputs": [],
   "source": [
    "df_cw_engagement = extract_metrics()"
   ]
  },
  {
   "cell_type": "code",
   "execution_count": 294,
   "id": "56c455be",
   "metadata": {
    "ExecuteTime": {
     "end_time": "2022-04-25T08:45:00.808363Z",
     "start_time": "2022-04-25T08:45:00.371080Z"
    },
    "scrolled": true
   },
   "outputs": [
    {
     "data": {
      "image/png": "[encoded data removed]",
      "text/plain": [
       "<Figure size 1440x720 with 2 Axes>"
      ]
     },
     "metadata": {
      "needs_background": "light"
     },
     "output_type": "display_data"
    }
   ],
   "source": [
    "f, axes = plt.subplots(2, 1, figsize=(20,10))\n",
    "sns.pointplot(x=\"active_ycw\", y=\"cnt_drivers\", data=df_cw_engagement, ax=axes[0], color='blue')\n",
    "axes[0].set_ylabel('Weekly # active drivers', fontsize=15)\n",
    "axes[0].tick_params(axis='x')\n",
    "axes[0].set_xticklabels([])\n",
    "axes[0].set_xlabel('')\n",
    "\n",
    "sns.pointplot(x=\"active_ycw\", y=\"rides\", data=df_cw_engagement, ax=axes[1], color='green')\n",
    "axes[1].set_ylabel('Weekly AVG rides per user', fontsize=15)\n",
    "axes[1].set_xlabel('Activity - Year-CW', fontsize=15)\n",
    "axes[1].tick_params(labelrotation=45)"
   ]
  },
  {
   "cell_type": "code",
   "execution_count": 299,
   "id": "596ecf04",
   "metadata": {
    "ExecuteTime": {
     "end_time": "2022-04-25T08:47:22.471295Z",
     "start_time": "2022-04-25T08:47:22.214511Z"
    }
   },
   "outputs": [
    {
     "data": {
      "image/png": "[encoded data removed]",
      "text/plain": [
       "<Figure size 1440x360 with 1 Axes>"
      ]
     },
     "metadata": {
      "needs_background": "light"
     },
     "output_type": "display_data"
    }
   ],
   "source": [
    "f, axes = plt.subplots(1, 1, figsize=(20,5))\n",
    "sns.pointplot(x=\"active_ycw\", y=\"perc_canc_driver\", data=df_cw_engagement, ax=axes, color='red')\n",
    "axes.set_ylabel('Weekly cancelled bookings [%]', fontsize=15)\n",
    "axes.set_xlabel('Activity - Year-CW', fontsize=15)\n",
    "axes.tick_params(labelrotation=45)"
   ]
  },
  {
   "cell_type": "markdown",
   "id": "ddcc55ef",
   "metadata": {
    "heading_collapsed": true
   },
   "source": [
    "## Segments associated with driver’s engagement?"
   ]
  },
  {
   "cell_type": "code",
   "execution_count": 288,
   "id": "4f0047e0",
   "metadata": {
    "ExecuteTime": {
     "end_time": "2022-04-25T08:40:19.968592Z",
     "start_time": "2022-04-25T08:40:19.660198Z"
    },
    "hidden": true,
    "scrolled": false
   },
   "outputs": [],
   "source": [
    "df_iso_stype = extract_metrics(driver_ycw_level=['id_driver', 'country_code', 'service_type']\n",
    "                                   , ycw_level=['country_code', 'service_type'])"
   ]
  },
  {
   "cell_type": "code",
   "execution_count": 289,
   "id": "43cfd8b2",
   "metadata": {
    "ExecuteTime": {
     "end_time": "2022-04-25T08:40:20.576244Z",
     "start_time": "2022-04-25T08:40:20.568721Z"
    },
    "hidden": true,
    "scrolled": false
   },
   "outputs": [
    {
     "data": {
      "text/html": [
       "<div>\n",
       "<style scoped>\n",
       "    .dataframe tbody tr th:only-of-type {\n",
       "        vertical-align: middle;\n",
       "    }\n",
       "\n",
       "    .dataframe tbody tr th {\n",
       "        vertical-align: top;\n",
       "    }\n",
       "\n",
       "    .dataframe thead th {\n",
       "        text-align: right;\n",
       "    }\n",
       "</style>\n",
       "<table border=\"1\" class=\"dataframe\">\n",
       "  <thead>\n",
       "    <tr style=\"text-align: right;\">\n",
       "      <th></th>\n",
       "      <th>country_code</th>\n",
       "      <th>service_type</th>\n",
       "      <th>perc_canc_driver</th>\n",
       "      <th>cnt_drivers</th>\n",
       "      <th>rides</th>\n",
       "    </tr>\n",
       "  </thead>\n",
       "  <tbody>\n",
       "    <tr>\n",
       "      <th>0</th>\n",
       "      <td>DE</td>\n",
       "      <td>PHV</td>\n",
       "      <td>7.380</td>\n",
       "      <td>5651</td>\n",
       "      <td>249.420</td>\n",
       "    </tr>\n",
       "    <tr>\n",
       "      <th>1</th>\n",
       "      <td>DE</td>\n",
       "      <td>TAXI</td>\n",
       "      <td>6.456</td>\n",
       "      <td>20151</td>\n",
       "      <td>122.922</td>\n",
       "    </tr>\n",
       "    <tr>\n",
       "      <th>2</th>\n",
       "      <td>ES</td>\n",
       "      <td>TAXI</td>\n",
       "      <td>8.575</td>\n",
       "      <td>11170</td>\n",
       "      <td>185.197</td>\n",
       "    </tr>\n",
       "  </tbody>\n",
       "</table>\n",
       "</div>"
      ],
      "text/plain": [
       "  country_code service_type  perc_canc_driver  cnt_drivers   rides\n",
       "0           DE          PHV             7.380         5651 249.420\n",
       "1           DE         TAXI             6.456        20151 122.922\n",
       "2           ES         TAXI             8.575        11170 185.197"
      ]
     },
     "execution_count": 289,
     "metadata": {},
     "output_type": "execute_result"
    }
   ],
   "source": [
    "df_iso_stype"
   ]
  },
  {
   "cell_type": "code",
   "execution_count": 291,
   "id": "a40d2594",
   "metadata": {
    "ExecuteTime": {
     "end_time": "2022-04-25T08:41:04.783235Z",
     "start_time": "2022-04-25T08:41:04.459685Z"
    },
    "hidden": true,
    "scrolled": false
   },
   "outputs": [
    {
     "data": {
      "text/html": [
       "<div>\n",
       "<style scoped>\n",
       "    .dataframe tbody tr th:only-of-type {\n",
       "        vertical-align: middle;\n",
       "    }\n",
       "\n",
       "    .dataframe tbody tr th {\n",
       "        vertical-align: top;\n",
       "    }\n",
       "\n",
       "    .dataframe thead th {\n",
       "        text-align: right;\n",
       "    }\n",
       "</style>\n",
       "<table border=\"1\" class=\"dataframe\">\n",
       "  <thead>\n",
       "    <tr style=\"text-align: right;\">\n",
       "      <th></th>\n",
       "      <th></th>\n",
       "      <th>count</th>\n",
       "      <th>mean</th>\n",
       "      <th>std</th>\n",
       "      <th>min</th>\n",
       "      <th>25%</th>\n",
       "      <th>50%</th>\n",
       "      <th>75%</th>\n",
       "      <th>max</th>\n",
       "    </tr>\n",
       "    <tr>\n",
       "      <th>country_code</th>\n",
       "      <th>service_type</th>\n",
       "      <th></th>\n",
       "      <th></th>\n",
       "      <th></th>\n",
       "      <th></th>\n",
       "      <th></th>\n",
       "      <th></th>\n",
       "      <th></th>\n",
       "      <th></th>\n",
       "    </tr>\n",
       "  </thead>\n",
       "  <tbody>\n",
       "    <tr>\n",
       "      <th rowspan=\"2\" valign=\"top\">DE</th>\n",
       "      <th>PHV</th>\n",
       "      <td>180591.000</td>\n",
       "      <td>5.869</td>\n",
       "      <td>11.482</td>\n",
       "      <td>0.000</td>\n",
       "      <td>0.000</td>\n",
       "      <td>2.000</td>\n",
       "      <td>8.000</td>\n",
       "      <td>173.000</td>\n",
       "    </tr>\n",
       "    <tr>\n",
       "      <th>TAXI</th>\n",
       "      <td>1010615.000</td>\n",
       "      <td>26.376</td>\n",
       "      <td>32.888</td>\n",
       "      <td>0.000</td>\n",
       "      <td>2.000</td>\n",
       "      <td>12.000</td>\n",
       "      <td>40.000</td>\n",
       "      <td>224.000</td>\n",
       "    </tr>\n",
       "    <tr>\n",
       "      <th>ES</th>\n",
       "      <th>TAXI</th>\n",
       "      <td>544622.000</td>\n",
       "      <td>24.157</td>\n",
       "      <td>30.872</td>\n",
       "      <td>0.000</td>\n",
       "      <td>2.000</td>\n",
       "      <td>11.000</td>\n",
       "      <td>35.000</td>\n",
       "      <td>179.000</td>\n",
       "    </tr>\n",
       "  </tbody>\n",
       "</table>\n",
       "</div>"
      ],
      "text/plain": [
       "                                count   mean    std   min   25%    50%    75%  \\\n",
       "country_code service_type                                                       \n",
       "DE           PHV           180591.000  5.869 11.482 0.000 0.000  2.000  8.000   \n",
       "             TAXI         1010615.000 26.376 32.888 0.000 2.000 12.000 40.000   \n",
       "ES           TAXI          544622.000 24.157 30.872 0.000 2.000 11.000 35.000   \n",
       "\n",
       "                              max  \n",
       "country_code service_type          \n",
       "DE           PHV          173.000  \n",
       "             TAXI         224.000  \n",
       "ES           TAXI         179.000  "
      ]
     },
     "execution_count": 291,
     "metadata": {},
     "output_type": "execute_result"
    }
   ],
   "source": [
    "df_activity.groupby(['country_code', 'service_type']).gold_level_count.describe()"
   ]
  },
  {
   "cell_type": "markdown",
   "id": "a19e5e3d",
   "metadata": {},
   "source": [
    "# A/B test on email campaign to incentivise driver activity"
   ]
  },
  {
   "cell_type": "code",
   "execution_count": 169,
   "id": "9f64ffc7",
   "metadata": {
    "ExecuteTime": {
     "end_time": "2022-04-24T15:30:59.999410Z",
     "start_time": "2022-04-24T15:30:59.990335Z"
    }
   },
   "outputs": [],
   "source": [
    "df_campaign = pd.read_csv('x_driver_campaign.csv', skiprows=1)"
   ]
  },
  {
   "cell_type": "code",
   "execution_count": 175,
   "id": "e0a2fe97",
   "metadata": {
    "ExecuteTime": {
     "end_time": "2022-04-24T15:33:20.570269Z",
     "start_time": "2022-04-24T15:33:20.564013Z"
    },
    "scrolled": true
   },
   "outputs": [
    {
     "data": {
      "text/html": [
       "<div>\n",
       "<style scoped>\n",
       "    .dataframe tbody tr th:only-of-type {\n",
       "        vertical-align: middle;\n",
       "    }\n",
       "\n",
       "    .dataframe tbody tr th {\n",
       "        vertical-align: top;\n",
       "    }\n",
       "\n",
       "    .dataframe thead th {\n",
       "        text-align: right;\n",
       "    }\n",
       "</style>\n",
       "<table border=\"1\" class=\"dataframe\">\n",
       "  <thead>\n",
       "    <tr style=\"text-align: right;\">\n",
       "      <th></th>\n",
       "      <th>driver</th>\n",
       "      <th>rides_within_week</th>\n",
       "      <th>test_group</th>\n",
       "    </tr>\n",
       "  </thead>\n",
       "  <tbody>\n",
       "    <tr>\n",
       "      <th>0</th>\n",
       "      <td>1</td>\n",
       "      <td>88</td>\n",
       "      <td>A</td>\n",
       "    </tr>\n",
       "    <tr>\n",
       "      <th>1</th>\n",
       "      <td>2</td>\n",
       "      <td>56</td>\n",
       "      <td>B</td>\n",
       "    </tr>\n",
       "    <tr>\n",
       "      <th>2</th>\n",
       "      <td>3</td>\n",
       "      <td>80</td>\n",
       "      <td>B</td>\n",
       "    </tr>\n",
       "    <tr>\n",
       "      <th>3</th>\n",
       "      <td>4</td>\n",
       "      <td>49</td>\n",
       "      <td>A</td>\n",
       "    </tr>\n",
       "    <tr>\n",
       "      <th>4</th>\n",
       "      <td>5</td>\n",
       "      <td>61</td>\n",
       "      <td>A</td>\n",
       "    </tr>\n",
       "  </tbody>\n",
       "</table>\n",
       "</div>"
      ],
      "text/plain": [
       "   driver  rides_within_week test_group\n",
       "0       1                 88          A\n",
       "1       2                 56          B\n",
       "2       3                 80          B\n",
       "3       4                 49          A\n",
       "4       5                 61          A"
      ]
     },
     "execution_count": 175,
     "metadata": {},
     "output_type": "execute_result"
    }
   ],
   "source": [
    "df_campaign.head()"
   ]
  },
  {
   "cell_type": "code",
   "execution_count": 176,
   "id": "e2735ffd",
   "metadata": {
    "ExecuteTime": {
     "end_time": "2022-04-24T15:34:10.616106Z",
     "start_time": "2022-04-24T15:34:10.604597Z"
    }
   },
   "outputs": [
    {
     "data": {
      "text/html": [
       "<div>\n",
       "<style scoped>\n",
       "    .dataframe tbody tr th:only-of-type {\n",
       "        vertical-align: middle;\n",
       "    }\n",
       "\n",
       "    .dataframe tbody tr th {\n",
       "        vertical-align: top;\n",
       "    }\n",
       "\n",
       "    .dataframe thead tr th {\n",
       "        text-align: left;\n",
       "    }\n",
       "\n",
       "    .dataframe thead tr:last-of-type th {\n",
       "        text-align: right;\n",
       "    }\n",
       "</style>\n",
       "<table border=\"1\" class=\"dataframe\">\n",
       "  <thead>\n",
       "    <tr>\n",
       "      <th></th>\n",
       "      <th colspan=\"2\" halign=\"left\">rides_within_week</th>\n",
       "    </tr>\n",
       "    <tr>\n",
       "      <th></th>\n",
       "      <th>count</th>\n",
       "      <th>mean</th>\n",
       "    </tr>\n",
       "    <tr>\n",
       "      <th>test_group</th>\n",
       "      <th></th>\n",
       "      <th></th>\n",
       "    </tr>\n",
       "  </thead>\n",
       "  <tbody>\n",
       "    <tr>\n",
       "      <th>A</th>\n",
       "      <td>5000</td>\n",
       "      <td>50.0450</td>\n",
       "    </tr>\n",
       "    <tr>\n",
       "      <th>B</th>\n",
       "      <td>5000</td>\n",
       "      <td>52.1168</td>\n",
       "    </tr>\n",
       "  </tbody>\n",
       "</table>\n",
       "</div>"
      ],
      "text/plain": [
       "           rides_within_week         \n",
       "                       count     mean\n",
       "test_group                           \n",
       "A                       5000  50.0450\n",
       "B                       5000  52.1168"
      ]
     },
     "execution_count": 176,
     "metadata": {},
     "output_type": "execute_result"
    }
   ],
   "source": [
    "df_campaign.groupby('test_group').agg({'rides_within_week': ['count', 'mean']})"
   ]
  },
  {
   "cell_type": "code",
   "execution_count": 177,
   "id": "aa83648d",
   "metadata": {
    "ExecuteTime": {
     "end_time": "2022-04-24T15:39:47.146369Z",
     "start_time": "2022-04-24T15:39:46.961323Z"
    },
    "scrolled": false
   },
   "outputs": [
    {
     "name": "stderr",
     "output_type": "stream",
     "text": [
      "/opt/conda/lib/python3.7/site-packages/seaborn/distributions.py:2619: FutureWarning: `distplot` is a deprecated function and will be removed in a future version. Please adapt your code to use either `displot` (a figure-level function with similar flexibility) or `histplot` (an axes-level function for histograms).\n",
      "  warnings.warn(msg, FutureWarning)\n"
     ]
    },
    {
     "data": {
      "text/plain": [
       "<AxesSubplot:xlabel='rides_within_week', ylabel='Density'>"
      ]
     },
     "execution_count": 177,
     "metadata": {},
     "output_type": "execute_result"
    },
    {
     "data": {
      "image/png": "[encoded data removed]",
      "text/plain": [
       "<Figure size 432x288 with 1 Axes>"
      ]
     },
     "metadata": {
      "needs_background": "light"
     },
     "output_type": "display_data"
    }
   ],
   "source": [
    "sns.distplot(df_campaign.loc[df_campaign.test_group=='A'].rides_within_week)"
   ]
  },
  {
   "cell_type": "code",
   "execution_count": 179,
   "id": "24dc307a",
   "metadata": {
    "ExecuteTime": {
     "end_time": "2022-04-24T15:40:09.124533Z",
     "start_time": "2022-04-24T15:40:08.939076Z"
    },
    "scrolled": false
   },
   "outputs": [
    {
     "data": {
      "text/plain": [
       "<AxesSubplot:xlabel='rides_within_week', ylabel='Density'>"
      ]
     },
     "execution_count": 179,
     "metadata": {},
     "output_type": "execute_result"
    },
    {
     "data": {
      "image/png": "[encoded data removed]",
      "text/plain": [
       "<Figure size 432x288 with 1 Axes>"
      ]
     },
     "metadata": {
      "needs_background": "light"
     },
     "output_type": "display_data"
    }
   ],
   "source": [
    "sns.distplot(df_campaign.loc[df_campaign.test_group=='B'].rides_within_week)"
   ]
  },
  {
   "cell_type": "markdown",
   "id": "42b436a5",
   "metadata": {},
   "source": [
    "- H0: A >= B\n",
    "- H1: B > A"
   ]
  },
  {
   "cell_type": "code",
   "execution_count": 189,
   "id": "23293111",
   "metadata": {
    "ExecuteTime": {
     "end_time": "2022-04-24T15:46:50.011341Z",
     "start_time": "2022-04-24T15:46:50.008780Z"
    }
   },
   "outputs": [],
   "source": [
    "alpha = 0.05"
   ]
  },
  {
   "cell_type": "code",
   "execution_count": 190,
   "id": "9422adb8",
   "metadata": {
    "ExecuteTime": {
     "end_time": "2022-04-24T15:46:50.348729Z",
     "start_time": "2022-04-24T15:46:50.343028Z"
    }
   },
   "outputs": [],
   "source": [
    "a = df_campaign.loc[df_campaign.test_group=='A'].rides_within_week\n",
    "b = df_campaign.loc[df_campaign.test_group=='B'].rides_within_week"
   ]
  },
  {
   "cell_type": "code",
   "execution_count": 191,
   "id": "3306089a",
   "metadata": {
    "ExecuteTime": {
     "end_time": "2022-04-24T15:46:50.712110Z",
     "start_time": "2022-04-24T15:46:50.708858Z"
    }
   },
   "outputs": [],
   "source": [
    "t_value, p_value = stats.ttest_ind(a,b)"
   ]
  },
  {
   "cell_type": "code",
   "execution_count": 300,
   "id": "0c1a180d",
   "metadata": {
    "ExecuteTime": {
     "end_time": "2022-04-25T09:57:36.619907Z",
     "start_time": "2022-04-25T09:57:36.616688Z"
    },
    "scrolled": true
   },
   "outputs": [
    {
     "name": "stdout",
     "output_type": "stream",
     "text": [
      "Reject H0\n"
     ]
    }
   ],
   "source": [
    "if p_value/2 < alpha:\n",
    "    print('Reject H0')\n",
    "else: \n",
    "    print('Accept H0')"
   ]
  },
  {
   "cell_type": "code",
   "execution_count": 197,
   "id": "a860835d",
   "metadata": {
    "ExecuteTime": {
     "end_time": "2022-04-24T15:47:23.847521Z",
     "start_time": "2022-04-24T15:47:23.843791Z"
    }
   },
   "outputs": [
    {
     "data": {
      "text/plain": [
       "'0.000000'"
      ]
     },
     "execution_count": 197,
     "metadata": {},
     "output_type": "execute_result"
    }
   ],
   "source": [
    "'%.6f' %(p_value/2)"
   ]
  }
 ],
 "metadata": {
  "hide_input": false,
  "kernelspec": {
   "display_name": "Python 3 (ipykernel)",
   "language": "python",
   "name": "python3"
  },
  "language_info": {
   "codemirror_mode": {
    "name": "ipython",
    "version": 3
   },
   "file_extension": ".py",
   "mimetype": "text/x-python",
   "name": "python",
   "nbconvert_exporter": "python",
   "pygments_lexer": "ipython3",
   "version": "3.7.8"
  }
 },
 "nbformat": 4,
 "nbformat_minor": 5
}
